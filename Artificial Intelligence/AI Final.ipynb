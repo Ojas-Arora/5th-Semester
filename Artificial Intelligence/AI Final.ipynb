{
 "cells": [
  {
   "cell_type": "code",
   "execution_count": 6,
   "id": "d31dc113-d9c6-4fd6-be56-c3a443d2b59d",
   "metadata": {},
   "outputs": [
    {
     "name": "stdout",
     "output_type": "stream",
     "text": [
      "The optimal value at the root node A is: 3\n"
     ]
    }
   ],
   "source": [
    "\n",
    "import math\n",
    "\n",
    "tree = {\n",
    "    'A': ['B', 'C'],\n",
    "    'B': ['D', 'E'],\n",
    "    'C': ['F', 'G'],\n",
    "    'D': [2, 3],\n",
    "    'E': [5, 9],\n",
    "    'F': [0, 1],\n",
    "    'G': [7, 5]\n",
    "}\n",
    "leaf_values = {\n",
    "    'D': [2, 3],\n",
    "    'E': [5, 9],\n",
    "    'F': [0, 1],\n",
    "    'G': [7, 5]\n",
    "}\n",
    "\n",
    "def is_terminal(state):\n",
    "    return state in leaf_values\n",
    "def utility(state):\n",
    "    return max(leaf_values[state])\n",
    "def actions(state):\n",
    "    return tree[state] if state in tree else []\n",
    "def result(state, action):\n",
    "    return action\n",
    "def alphabeta(state, depth, alpha, beta, maximizing_player):\n",
    "    if is_terminal(state) or depth == 0:\n",
    "        return utility(state) \n",
    "    if maximizing_player:\n",
    "        max_eval = -math.inf\n",
    "        for action in actions(state):\n",
    "            eval = alphabeta(result(state, action), depth - 1, alpha, beta, False)\n",
    "            max_eval = max(max_eval, eval)\n",
    "            alpha = max(alpha, eval)\n",
    "            if beta <= alpha:\n",
    "                break  \n",
    "        return max_eval\n",
    "    else:\n",
    "        min_eval = math.inf\n",
    "        for action in actions(state):\n",
    "            eval = alphabeta(result(state, action), depth - 1, alpha, beta, True)\n",
    "            min_eval = min(min_eval, eval)\n",
    "            beta = min(beta, eval)\n",
    "            if beta <= alpha:\n",
    "                break \n",
    "        return min_eval\n",
    "optimal_value = alphabeta('A', 3, -math.inf, math.inf, True)\n",
    "print(f\"The optimal value at the root node A is: {optimal_value}\")\n"
   ]
  },
  {
   "cell_type": "code",
   "execution_count": null,
   "id": "8e92060e-3bbe-4d05-af12-135de55ea0a6",
   "metadata": {},
   "outputs": [],
   "source": []
  }
 ],
 "metadata": {
  "kernelspec": {
   "display_name": "Python 3 (ipykernel)",
   "language": "python",
   "name": "python3"
  },
  "language_info": {
   "codemirror_mode": {
    "name": "ipython",
    "version": 3
   },
   "file_extension": ".py",
   "mimetype": "text/x-python",
   "name": "python",
   "nbconvert_exporter": "python",
   "pygments_lexer": "ipython3",
   "version": "3.11.7"
  }
 },
 "nbformat": 4,
 "nbformat_minor": 5
}
