{
 "cells": [
  {
   "cell_type": "code",
   "execution_count": 5,
   "id": "a94c529a-b3f9-41cb-8314-1e07986f7d61",
   "metadata": {},
   "outputs": [
    {
     "name": "stdout",
     "output_type": "stream",
     "text": [
      "Visited: S, Exploring: A\n",
      "Visited: S, Exploring: B\n",
      "Visited: B, Exploring: E\n",
      "Visited: B, Exploring: F\n",
      "Visited: F, Exploring: I\n",
      "Visited: F, Exploring: G\n",
      "Goal G found!\n",
      "Path: ['S', 'B', 'F', 'G']\n"
     ]
    }
   ],
   "source": [
    "import heapq\n",
    "class Graph:\n",
    "    def __init__(self):  \n",
    "        self.graph = {}\n",
    "        self.heuristics = {}\n",
    "    def add_edge(self, node, neighbor, cost):\n",
    "        if node not in self.graph:\n",
    "            self.graph[node] = []\n",
    "        self.graph[node].append((cost, neighbor))\n",
    "    def set_heuristic(self, node, h_value):\n",
    "        self.heuristics[node] = h_value\n",
    "    def best_first_search(self, start, goal):\n",
    "        open_list = []\n",
    "        heapq.heappush(open_list, (self.heuristics[start], start))\n",
    "        came_from = {start: None}\n",
    "        visited = set()\n",
    "        while open_list:\n",
    "            _, current_node = heapq.heappop(open_list)\n",
    "            if current_node == goal:\n",
    "                print(f\"Goal {goal} found!\")\n",
    "                return self.reconstruct_path(came_from, start, goal)\n",
    "            if current_node in visited:\n",
    "                continue\n",
    "            visited.add(current_node)\n",
    "            for cost, neighbor in self.graph.get(current_node, []):\n",
    "                if neighbor not in visited:\n",
    "                    heapq.heappush(open_list, (self.heuristics[neighbor], neighbor))\n",
    "                    came_from[neighbor] = current_node\n",
    "                    print(f\"Visited: {current_node}, Exploring: {neighbor}\")\n",
    "        print(\"Goal not found.\")\n",
    "        return None\n",
    "    def reconstruct_path(self, came_from, start, goal):\n",
    "        path = []\n",
    "        current = goal\n",
    "        while current is not None:\n",
    "            path.append(current)\n",
    "            current = came_from[current]\n",
    "        path.reverse()\n",
    "        return path\n",
    "g = Graph()\n",
    "g.add_edge('S', 'A', 3)\n",
    "g.add_edge('S', 'B', 2)\n",
    "g.add_edge('A', 'C', 4)\n",
    "g.add_edge('A', 'D', 1)\n",
    "g.add_edge('B', 'E', 3)\n",
    "g.add_edge('B', 'F', 1)\n",
    "g.add_edge('E', 'H', 5)\n",
    "g.add_edge('F', 'I', 2)\n",
    "g.add_edge('F', 'G', 3)\n",
    "g.set_heuristic('S', 13)\n",
    "g.set_heuristic('A', 12)\n",
    "g.set_heuristic('B', 4)\n",
    "g.set_heuristic('C', 7)\n",
    "g.set_heuristic('D', 3)\n",
    "g.set_heuristic('E', 8)\n",
    "g.set_heuristic('F', 2)\n",
    "g.set_heuristic('G', 0)  \n",
    "g.set_heuristic('H', 4)\n",
    "g.set_heuristic('I', 9)\n",
    "path = g.best_first_search('S', 'G')\n",
    "print(\"Path:\", path)"
   ]
  },
  {
   "cell_type": "code",
   "execution_count": null,
   "id": "09abe8c7-c95c-4ce4-b033-a337df939658",
   "metadata": {},
   "outputs": [],
   "source": []
  }
 ],
 "metadata": {
  "kernelspec": {
   "display_name": "Python 3 (ipykernel)",
   "language": "python",
   "name": "python3"
  },
  "language_info": {
   "codemirror_mode": {
    "name": "ipython",
    "version": 3
   },
   "file_extension": ".py",
   "mimetype": "text/x-python",
   "name": "python",
   "nbconvert_exporter": "python",
   "pygments_lexer": "ipython3",
   "version": "3.11.7"
  }
 },
 "nbformat": 4,
 "nbformat_minor": 5
}
