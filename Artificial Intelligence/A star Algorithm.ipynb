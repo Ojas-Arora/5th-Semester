{
 "cells": [
  {
   "cell_type": "code",
   "execution_count": 8,
   "id": "4baf8846-88d4-456f-83a2-8d8ab878c525",
   "metadata": {},
   "outputs": [
    {
     "name": "stdout",
     "output_type": "stream",
     "text": [
      "All paths and their respective costs are:\n",
      "Path: S -> A -> C -> G, Cost: 6\n",
      "Path: S -> G, Cost: 10\n",
      "Path: S -> A -> C -> D -> G, Cost: 7\n",
      "Path: S -> A -> B -> D -> G, Cost: 10\n",
      "\n",
      "Best Path:\n",
      "Path: S -> A -> C -> G, Cost: 6\n"
     ]
    }
   ],
   "source": [
    "import heapq\n",
    "class Node:\n",
    "    def __init__(self, name, parent=None):\n",
    "        self.name = name\n",
    "        self.parent = parent\n",
    "        self.g = 0  \n",
    "        self.h = 0  \n",
    "        self.f = 0 \n",
    "    def __eq__(self, other):+\n",
    "        return self.name == other.name\n",
    "    def __lt__(self, other):\n",
    "        return self.f < other.f\n",
    "    def __hash__(self):\n",
    "        return hash(self.name)\n",
    "def a_star_all_paths(graph, start, goal, heuristic):\n",
    "    start_node = Node(start)\n",
    "    goal_node = Node(goal)\n",
    "    open_list = []\n",
    "    paths = []\n",
    "    heapq.heappush(open_list, start_node)\n",
    "    while open_list:\n",
    "        current_node = heapq.heappop(open_list)\n",
    "        if current_node.name == goal:\n",
    "            path = []\n",
    "            total_cost = current_node.g\n",
    "            while current_node:\n",
    "                path.append(current_node.name)\n",
    "                current_node = current_node.parent\n",
    "            paths.append((path[::-1], total_cost))  # Store path & cost\n",
    "            continue  # for finding other paths\n",
    "        neighbors = graph.get(current_node.name, {})\n",
    "        for neighbor_name, cost in neighbors.items():\n",
    "            neighbor_node = Node(neighbor_name, current_node)\n",
    "            neighbor_node.g = current_node.g + cost\n",
    "            neighbor_node.h = heuristic.get(neighbor_name, 0)\n",
    "            neighbor_node.f = neighbor_node.g + neighbor_node.h\n",
    "            heapq.heappush(open_list, neighbor_node)\n",
    "    return paths\n",
    "def find_best_path(paths):\n",
    "    best_path = min(paths, key=lambda x: x[1])  \n",
    "    return best_path\n",
    "graph = {\n",
    "    'S': {'A': 1, 'G': 10},\n",
    "    'A': {'B': 2, 'C': 1},\n",
    "    'B': {'D': 5},\n",
    "    'C': {'D': 3, 'G': 4},\n",
    "    'D': {'G': 2},\n",
    "    'G': {}\n",
    "}\n",
    "heuristic = {\n",
    "    'S': 5,\n",
    "    'A': 3,\n",
    "    'B': 4,\n",
    "    'C': 2,\n",
    "    'D': 6,\n",
    "    'G': 0\n",
    "}\n",
    "start = 'S'\n",
    "goal = 'G'\n",
    "all_paths = a_star_all_paths(graph, start, goal, heuristic)\n",
    "print(\"All paths and their respective costs are:\")\n",
    "for path, cost in all_paths:\n",
    "    print(f\"Path: {' -> '.join(path)}, Cost: {cost}\")\n",
    "if all_paths:\n",
    "    best_path, best_cost = find_best_path(all_paths)\n",
    "    print(\"\\nBest Path:\")\n",
    "    print(f\"Path: {' -> '.join(best_path)}, Cost: {best_cost}\")\n",
    "else:\n",
    "    print(\"\\nNo path found from start to goal.\")"
   ]
  },
  {
   "cell_type": "code",
   "execution_count": null,
   "id": "15e8d3f4-93f5-4cf1-8b94-f37f99c95e1d",
   "metadata": {},
   "outputs": [],
   "source": []
  }
 ],
 "metadata": {
  "kernelspec": {
   "display_name": "Python 3 (ipykernel)",
   "language": "python",
   "name": "python3"
  },
  "language_info": {
   "codemirror_mode": {
    "name": "ipython",
    "version": 3
   },
   "file_extension": ".py",
   "mimetype": "text/x-python",
   "name": "python",
   "nbconvert_exporter": "python",
   "pygments_lexer": "ipython3",
   "version": "3.11.7"
  }
 },
 "nbformat": 4,
 "nbformat_minor": 5
}
