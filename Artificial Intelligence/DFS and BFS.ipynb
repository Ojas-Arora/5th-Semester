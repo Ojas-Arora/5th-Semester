{
 "cells": [
  {
   "cell_type": "code",
   "execution_count": 9,
   "id": "6219e93e-eaa1-43e9-9eed-2a2e975e2a07",
   "metadata": {},
   "outputs": [
    {
     "name": "stdout",
     "output_type": "stream",
     "text": [
      "BFS(Breadth First Search is): ['A', 'B', 'C', 'D', 'E', 'F', 'H', 'I', 'J']\n"
     ]
    }
   ],
   "source": [
    "from collections import deque\n",
    "\n",
    "def bfs(graph, start):\n",
    "    visited = []\n",
    "    queue = deque([start])\n",
    "    \n",
    "    while queue:\n",
    "        node = queue.popleft()\n",
    "        if node not in visited:\n",
    "            visited.append(node)\n",
    "            queue.extend(graph[node])\n",
    "    \n",
    "    return visited\n",
    "graph = {\n",
    "    'A': ['B', 'C', 'D'],\n",
    "    'B': ['E'],\n",
    "    'C': ['F'],\n",
    "    'D': ['H'],\n",
    "    'E': [],\n",
    "    'F': [],\n",
    "    'H': ['I', 'J'],\n",
    "    'I': [],\n",
    "    'J': []\n",
    "}\n",
    "print(\"BFS(Breadth First Search is):\", bfs(graph, 'A'))"
   ]
  },
  {
   "cell_type": "code",
   "execution_count": 10,
   "id": "ad1f7405-c193-4491-a54f-75784e0b3141",
   "metadata": {},
   "outputs": [
    {
     "name": "stdout",
     "output_type": "stream",
     "text": [
      "DFS(Depth First Search is): ['A', 'B', 'E', 'C', 'F', 'D', 'H', 'I', 'J']\n"
     ]
    }
   ],
   "source": [
    "def dfs(graph, start, visited=None):\n",
    "    if visited is None:\n",
    "        visited = []\n",
    "    visited.append(start)\n",
    "    \n",
    "    for neighbor in graph[start]:\n",
    "        if neighbor not in visited:\n",
    "            dfs(graph, neighbor, visited)\n",
    "    \n",
    "    return visited\n",
    "graph = {\n",
    "    'A': ['B', 'C', 'D'],\n",
    "    'B': ['E'],\n",
    "    'C': ['F'],\n",
    "    'D': ['H'],\n",
    "    'E': [],\n",
    "    'F': [],\n",
    "    'H': ['I', 'J'],\n",
    "    'I': [],\n",
    "    'J': []\n",
    "}\n",
    "print(\"DFS(Depth First Search is):\", dfs(graph, 'A'))"
   ]
  },
  {
   "cell_type": "code",
   "execution_count": null,
   "id": "92767278-042c-4b7b-aaaa-a35799ad14f0",
   "metadata": {},
   "outputs": [],
   "source": []
  },
  {
   "cell_type": "code",
   "execution_count": null,
   "id": "2e8a9601-fa14-4fa5-bdbe-3e93593df438",
   "metadata": {},
   "outputs": [],
   "source": []
  }
 ],
 "metadata": {
  "kernelspec": {
   "display_name": "Python 3 (ipykernel)",
   "language": "python",
   "name": "python3"
  },
  "language_info": {
   "codemirror_mode": {
    "name": "ipython",
    "version": 3
   },
   "file_extension": ".py",
   "mimetype": "text/x-python",
   "name": "python",
   "nbconvert_exporter": "python",
   "pygments_lexer": "ipython3",
   "version": "3.11.7"
  }
 },
 "nbformat": 4,
 "nbformat_minor": 5
}
