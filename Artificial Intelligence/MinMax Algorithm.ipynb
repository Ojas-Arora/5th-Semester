{
 "cells": [
  {
   "cell_type": "code",
   "execution_count": 4,
   "id": "02953c30-8714-4299-8943-1df84a04e306",
   "metadata": {},
   "outputs": [
    {
     "name": "stdout",
     "output_type": "stream",
     "text": [
      "The final value at the root node is: 5\n"
     ]
    }
   ],
   "source": [
    "import math\n",
    "tree = {\n",
    "    'A': ['B', 'C'],\n",
    "    'B': ['D', 'E'],\n",
    "    'C': ['F', 'G'],\n",
    "    'D': [3, 5],\n",
    "    'E': [6, 9],\n",
    "    'F': [1, 2],\n",
    "    'G': [0, -1]\n",
    "}\n",
    "leaf_values = {\n",
    "    'D': [3, 5],\n",
    "    'E': [6, 9],\n",
    "    'F': [1, 2],\n",
    "    'G': [0, -1]\n",
    "}\n",
    "def is_terminal(state):\n",
    "    return state in leaf_values\n",
    "def utility(state):\n",
    "    return max(leaf_values[state])\n",
    "def actions(state):\n",
    "    return tree[state] if state in tree else []\n",
    "def result(state, action):\n",
    "    return action\n",
    "def minmax(state, depth, maximizing_player):\n",
    "    if is_terminal(state) or depth == 0:\n",
    "        return utility(state)    \n",
    "    if maximizing_player:\n",
    "        max_eval = -math.inf\n",
    "        for action in actions(state):\n",
    "            eval = minmax(result(state, action), depth - 1, False)\n",
    "            max_eval = max(max_eval, eval)\n",
    "        return max_eval\n",
    "    else:\n",
    "        min_eval = math.inf\n",
    "        for action in actions(state):\n",
    "            eval = minmax(result(state, action), depth - 1, True)\n",
    "            min_eval = min(min_eval, eval)\n",
    "        return min_eval\n",
    "optimal_value = minmax('A', 3, True)\n",
    "print(f\"The final value at the root node is: {optimal_value}\")"
   ]
  },
  {
   "cell_type": "code",
   "execution_count": 1,
   "id": "59b014f3-b15b-4919-800b-8a238b847ed3",
   "metadata": {},
   "outputs": [
    {
     "name": "stdout",
     "output_type": "stream",
     "text": [
      "The optimal value at the root node is: 5\n"
     ]
    }
   ],
   "source": [
    "import math\n",
    "tree = {\n",
    "    'A': ['B', 'C'],\n",
    "    'B': ['D', 'E'],\n",
    "    'C': ['F', 'G'],\n",
    "    'D': [3, 5],\n",
    "    'E': [6, 9],\n",
    "    'F': [1, 2],\n",
    "    'G': [0, -1]\n",
    "}\n",
    "leaf_values = {\n",
    "    'D': [3, 5],\n",
    "    'E': [6, 9],\n",
    "    'F': [1, 2],\n",
    "    'G': [0, -1]\n",
    "}\n",
    "def is_terminal(state):\n",
    "    return state in leaf_values\n",
    "def utility(state):\n",
    "    return max(leaf_values[state]\n",
    "def actions(state):\n",
    "    return tree[state] if state in tree else []\n",
    "def result(state, action):\n",
    "    return action\n",
    "def alphabeta(state, depth, alpha, beta, maximizing_player):\n",
    "    if is_terminal(state) or depth == 0:\n",
    "        return utility(state) \n",
    "    if maximizing_player:\n",
    "        max_eval = -math.inf\n",
    "        for action in actions(state):\n",
    "            eval = alphabeta(result(state, action), depth - 1, alpha, beta, False)\n",
    "            max_eval = max(max_eval, eval)\n",
    "            alpha = max(alpha, eval)\n",
    "            if beta <= alpha:\n",
    "                break  \n",
    "        return max_eval\n",
    "    else:\n",
    "        min_eval = math.inf\n",
    "        for action in actions(state):\n",
    "            eval = alphabeta(result(state, action), depth - 1, alpha, beta, True)\n",
    "            min_eval = min(min_eval, eval)\n",
    "            beta = min(beta, eval)\n",
    "            if beta <= alpha:\n",
    "                break \n",
    "        return min_eval\n",
    "optimal_value = alphabeta('A', 3, -math.inf, math.inf, True)\n",
    "print(f\"The optimal value at the root node is: {optimal_value}\")\n"
   ]
  },
  {
   "cell_type": "code",
   "execution_count": null,
   "id": "f55b1e8e-45be-488e-b129-a94adb039b56",
   "metadata": {},
   "outputs": [],
   "source": []
  }
 ],
 "metadata": {
  "kernelspec": {
   "display_name": "Python 3 (ipykernel)",
   "language": "python",
   "name": "python3"
  },
  "language_info": {
   "codemirror_mode": {
    "name": "ipython",
    "version": 3
   },
   "file_extension": ".py",
   "mimetype": "text/x-python",
   "name": "python",
   "nbconvert_exporter": "python",
   "pygments_lexer": "ipython3",
   "version": "3.11.7"
  }
 },
 "nbformat": 4,
 "nbformat_minor": 5
}
